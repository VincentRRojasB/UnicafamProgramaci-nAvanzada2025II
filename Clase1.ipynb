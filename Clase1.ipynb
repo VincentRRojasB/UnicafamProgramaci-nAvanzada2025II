{
  "nbformat": 4,
  "nbformat_minor": 0,
  "metadata": {
    "colab": {
      "provenance": [],
      "authorship_tag": "ABX9TyOz3g+qswhCF9oNyPnVJTTD",
      "include_colab_link": true
    },
    "kernelspec": {
      "name": "python3",
      "display_name": "Python 3"
    },
    "language_info": {
      "name": "python"
    }
  },
  "cells": [
    {
      "cell_type": "markdown",
      "metadata": {
        "id": "view-in-github",
        "colab_type": "text"
      },
      "source": [
        "<a href=\"https://colab.research.google.com/github/VincentRRojasB/UnicafamProgramaci-nAvanzada2025II/blob/main/Clase1.ipynb\" target=\"_parent\"><img src=\"https://colab.research.google.com/assets/colab-badge.svg\" alt=\"Open In Colab\"/></a>"
      ]
    },
    {
      "cell_type": "markdown",
      "source": [
        "**Introducción a Python**\n",
        "\n",
        "Programación Avanzada\n",
        "\n",
        "Ingenieria Industrial\n",
        "\n",
        "Facultad de Ingenieria\n",
        "\n",
        "Unicafam\n",
        "\n",
        "Docente: Nicolas Mojica\n",
        "\n",
        "Estudiante: Vincent R Rojas B\n",
        "\n",
        "\n",
        "\n",
        "---\n",
        "\n"
      ],
      "metadata": {
        "id": "jdlO8rnszGYQ"
      }
    },
    {
      "cell_type": "markdown",
      "source": [
        "## 1.Comentarios de codigo\n",
        "\n"
      ],
      "metadata": {
        "id": "u16vKzCQ0QBF"
      }
    },
    {
      "cell_type": "code",
      "execution_count": 1,
      "metadata": {
        "colab": {
          "base_uri": "https://localhost:8080/"
        },
        "id": "3r8TZDRmypdz",
        "outputId": "385d75ad-da0d-442d-c02e-39ef8b44ee9e"
      },
      "outputs": [
        {
          "output_type": "stream",
          "name": "stdout",
          "text": [
            "Hola mundo\n"
          ]
        }
      ],
      "source": [
        "# Este es un comentario de una sola linea\n",
        "print(\"Hola mundo\")"
      ]
    },
    {
      "cell_type": "code",
      "source": [
        "\"\"\"Este comentario\n",
        "es para\n",
        "varias lineas\"\"\"\n",
        "print(\"Hola Mundo\")"
      ],
      "metadata": {
        "colab": {
          "base_uri": "https://localhost:8080/"
        },
        "id": "SbL3zz271TZx",
        "outputId": "f0e069b7-d9a2-46a6-bd15-62f8c2c8a0f5"
      },
      "execution_count": 2,
      "outputs": [
        {
          "output_type": "stream",
          "name": "stdout",
          "text": [
            "Hola Mundo\n"
          ]
        }
      ]
    },
    {
      "cell_type": "markdown",
      "source": [
        "## **2. Variables**"
      ],
      "metadata": {
        "id": "6dUA4DVN2fvV"
      }
    },
    {
      "cell_type": "code",
      "source": [
        "# Reglas para nombrar una variable\n",
        "# 1. No caracteres especiales - No espacios\n",
        "# 2. Las variables son sencibles a las MAYUSCULAS o minusculas\n",
        "# 3. Las variables se transformano cambian a traves del codigo\n",
        "var=\"Hola mundo\"\n",
        "print(var)"
      ],
      "metadata": {
        "colab": {
          "base_uri": "https://localhost:8080/"
        },
        "id": "MUL6M_c22fGT",
        "outputId": "ed859186-7e33-4323-a210-0ff267d3074e"
      },
      "execution_count": 3,
      "outputs": [
        {
          "output_type": "stream",
          "name": "stdout",
          "text": [
            "Hola mundo\n"
          ]
        }
      ]
    },
    {
      "cell_type": "markdown",
      "source": [
        "## **3. Tipos de datos**"
      ],
      "metadata": {
        "id": "SML91X034qbR"
      }
    },
    {
      "cell_type": "code",
      "source": [
        "# Numericos\n",
        "# Enteros - Integer\n",
        "entero=42\n",
        "entero_literal=int(42)\n",
        "type(entero)\n",
        "type(entero_literal)"
      ],
      "metadata": {
        "colab": {
          "base_uri": "https://localhost:8080/"
        },
        "id": "cPX63tGi4ARw",
        "outputId": "f62964a0-7cea-428f-c321-c5d1bd0971b1"
      },
      "execution_count": 6,
      "outputs": [
        {
          "output_type": "execute_result",
          "data": {
            "text/plain": [
              "int"
            ]
          },
          "metadata": {},
          "execution_count": 6
        }
      ]
    },
    {
      "cell_type": "code",
      "source": [
        "# Decimales - float\n",
        "decimal=3.14\n",
        "decimal_literal=float(3.14)\n",
        "type(decimal)"
      ],
      "metadata": {
        "colab": {
          "base_uri": "https://localhost:8080/"
        },
        "id": "GiHije2q59gK",
        "outputId": "f83d0800-106c-4f01-f33b-653ad658222a"
      },
      "execution_count": 9,
      "outputs": [
        {
          "output_type": "execute_result",
          "data": {
            "text/plain": [
              "float"
            ]
          },
          "metadata": {},
          "execution_count": 9
        }
      ]
    },
    {
      "cell_type": "code",
      "source": [
        "# Conversión de tipos de datos\n",
        "entero_convertido=float(entero)\n",
        "print(entero_convertido)\n",
        "type(entero_convertido)"
      ],
      "metadata": {
        "colab": {
          "base_uri": "https://localhost:8080/"
        },
        "id": "MtypxEyZ7Ou2",
        "outputId": "4464b2d2-75c4-435b-da43-9271d6c0dd70"
      },
      "execution_count": 10,
      "outputs": [
        {
          "output_type": "stream",
          "name": "stdout",
          "text": [
            "42.0\n"
          ]
        },
        {
          "output_type": "execute_result",
          "data": {
            "text/plain": [
              "float"
            ]
          },
          "metadata": {},
          "execution_count": 10
        }
      ]
    },
    {
      "cell_type": "code",
      "source": [
        "# Valores de cadena de datos o de texto - string\n",
        "cadena_simple=\"Hola, mundo\"\n",
        "cadena_multi=\"\"\"cadena de\n",
        "varias\n",
        "lineas\"\"\""
      ],
      "metadata": {
        "id": "LPkbp3857luZ"
      },
      "execution_count": 11,
      "outputs": []
    },
    {
      "cell_type": "markdown",
      "source": [
        "##  **4. Operadores aritmeticos**"
      ],
      "metadata": {
        "id": "lRmMa24V9YDo"
      }
    },
    {
      "cell_type": "code",
      "source": [
        "a=10\n",
        "b=5\n",
        "# Suma\n",
        "print(a+b)\n",
        "# Resta\n",
        "print(a-b)\n",
        "# Multiplicación\n",
        "print(a*b)\n",
        "# División\n",
        "print(a/b)\n",
        "# División entera\n",
        "print(a//b)         # // realiza división entera\n",
        "# Modulo\n",
        "print(a%b)"
      ],
      "metadata": {
        "colab": {
          "base_uri": "https://localhost:8080/"
        },
        "id": "yszC27oj89Qh",
        "outputId": "6947dd43-9f31-40e3-c301-1f7c13def0ce"
      },
      "execution_count": 12,
      "outputs": [
        {
          "output_type": "stream",
          "name": "stdout",
          "text": [
            "15\n",
            "5\n",
            "50\n",
            "2.0\n",
            "2\n",
            "0\n"
          ]
        }
      ]
    },
    {
      "cell_type": "code",
      "source": [],
      "metadata": {
        "id": "Je0tSavv_E40"
      },
      "execution_count": null,
      "outputs": []
    }
  ]
}