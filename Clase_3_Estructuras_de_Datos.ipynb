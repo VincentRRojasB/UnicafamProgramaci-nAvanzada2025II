{
  "nbformat": 4,
  "nbformat_minor": 0,
  "metadata": {
    "colab": {
      "provenance": [],
      "authorship_tag": "ABX9TyO+X0opgxIY/gl63N7KaC3B",
      "include_colab_link": true
    },
    "kernelspec": {
      "name": "python3",
      "display_name": "Python 3"
    },
    "language_info": {
      "name": "python"
    }
  },
  "cells": [
    {
      "cell_type": "markdown",
      "metadata": {
        "id": "view-in-github",
        "colab_type": "text"
      },
      "source": [
        "<a href=\"https://colab.research.google.com/github/VincentRRojasB/UnicafamProgramacionAvanzada2025II/blob/main/Clase_3_Estructuras_de_Datos.ipynb\" target=\"_parent\"><img src=\"https://colab.research.google.com/assets/colab-badge.svg\" alt=\"Open In Colab\"/></a>"
      ]
    },
    {
      "cell_type": "code",
      "execution_count": null,
      "metadata": {
        "id": "a-asx4744fH8"
      },
      "outputs": [],
      "source": []
    },
    {
      "cell_type": "markdown",
      "source": [
        "**Estructuras de Datos**\n",
        "\n",
        "Programación Avanzada\n",
        "\n",
        "Ingenieria Industrial\n",
        "\n",
        "Facultad de Ingenieria\n",
        "\n",
        "Unicafam\n",
        "\n",
        "Docente: Nicolas Mojica\n",
        "\n",
        "Estudiante: Vincent R Rojas B\n",
        "\n",
        "\n",
        "\n",
        "---\n"
      ],
      "metadata": {
        "id": "X86sU1Kg5MbN"
      }
    },
    {
      "cell_type": "markdown",
      "source": [
        "## Listas"
      ],
      "metadata": {
        "id": "-6jBc7wf7B-U"
      }
    },
    {
      "cell_type": "code",
      "source": [
        "# Crear lista vacia\n",
        "mi_lista=[]                               # para el ingreso de datos\n",
        "\n",
        "# Crear una lista con elementos\n",
        "mi_Lista=[1, 2, 3, 'vaca', 5.0 ]"
      ],
      "metadata": {
        "colab": {
          "base_uri": "https://localhost:8080/"
        },
        "id": "q3TDkncw5Nbj",
        "outputId": "3bf5382c-2117-44e6-e653-cd4c9f44e9d8"
      },
      "execution_count": 3,
      "outputs": [
        {
          "output_type": "stream",
          "name": "stdout",
          "text": [
            "(1, 2, 3)\n"
          ]
        }
      ]
    },
    {
      "cell_type": "code",
      "source": [
        "mi_lista=[10,20,30,40,50]\n",
        "# Acceder al 30\n",
        "print(mi_lista[2])\n",
        "\n",
        "# Acceder al 10\n",
        "print(mi_lista[0])\n",
        "\n",
        "# Conocer la posición en la que se encuentra un elemento de la lista\n",
        "print(mi_lista.index(50))                # .index se utiliza para buscar el elemento y conocer su posición\n",
        "\n",
        "\n"
      ],
      "metadata": {
        "colab": {
          "base_uri": "https://localhost:8080/"
        },
        "id": "qGtjcHVK6n5B",
        "outputId": "c60d238d-79a5-4b36-ece2-8e0bd0453c6d"
      },
      "execution_count": 7,
      "outputs": [
        {
          "output_type": "stream",
          "name": "stdout",
          "text": [
            "30\n",
            "10\n",
            "4\n"
          ]
        }
      ]
    },
    {
      "cell_type": "code",
      "source": [
        "# Diseño de un programa de actualición de datos que le permita al usuario siempre y cuando exista\n",
        "mi_lista_1=['Isabel','Vincent','Manuel','Jhon']\n",
        "\n",
        "# Mensaje de bienvenida\n",
        "print('---------------PROGRAMA DE ACTUALIZACIÓN DE DATOS---------------')\n",
        "# Pregunta al usuario que nombre quiere buscar\n",
        "nombre_buscar=input('Ingrese nombre a buscar:')\n",
        "\n",
        "# Definición de condicional\n",
        "# Si el nombre del usuario existe en la lista\n",
        "if nombre_buscar in mi_lista_1:\n",
        "\n",
        "  #Encuentra la posición o el indice de nombre que ingreso el usuario detro de la lista\n",
        "  pos=mi_lista_1.index(nombre_buscar)\n",
        "\n",
        "  # Actualiza la posición dentro de la lista con el nuevo nombre que indique el usuario\n",
        "  mi_lista_1[pos]=input('Ingrese nuevo nombre: ')\n",
        "\n",
        "  # Imprimir la lista actualizada\n",
        "  print(mi_lista_1)\n",
        "\n",
        "else:\n",
        "  print('su nombre no esta en la lista')"
      ],
      "metadata": {
        "colab": {
          "base_uri": "https://localhost:8080/"
        },
        "id": "BZQxcucD9IQE",
        "outputId": "67c487c1-78ae-4ca7-c0b4-28da30ead754"
      },
      "execution_count": 13,
      "outputs": [
        {
          "output_type": "stream",
          "name": "stdout",
          "text": [
            "---------------PROGRAMA DE ACTUALIZACIÓN DE DATOS---------------\n",
            "Ingrese nombre a buscar:Vincent\n",
            "Ingrese nuevo nombre: Vins\n",
            "['Isabel', 'Vins', 'Manuel', 'Jhon']\n"
          ]
        }
      ]
    },
    {
      "cell_type": "code",
      "source": [
        "# Metodos de las listas\n",
        "# Actualización de los datos de una lista\n",
        "mi_lista = [10,20,30,40,50]\n",
        "# Cambiar elemento de una lista\n",
        "# Llamar a la lista, determicar la posicion del elemento a cambiar y establecer y establecer el nuevo valor\n",
        "\n",
        "# Cambiar el 40 por 1.5\n",
        "mi_lista[3]=1.5\n",
        "print(mi_lista)\n"
      ],
      "metadata": {
        "colab": {
          "base_uri": "https://localhost:8080/"
        },
        "id": "tu_4B76fA63a",
        "outputId": "a812c137-631c-4c93-b45d-2afb0b45dbfe"
      },
      "execution_count": 16,
      "outputs": [
        {
          "output_type": "stream",
          "name": "stdout",
          "text": [
            "[10, 20, 30, 1.5, 50]\n"
          ]
        }
      ]
    },
    {
      "cell_type": "code",
      "source": [
        "# Cambiar el 50 por voy a pasar el parcial con 5\n",
        "mi_lista = [10,20,30,40,50]\n",
        "mi_lista[4]='voy a pasar el parcial con 5'\n",
        "print(mi_lista)"
      ],
      "metadata": {
        "colab": {
          "base_uri": "https://localhost:8080/"
        },
        "id": "VgvH78PHE53P",
        "outputId": "4de9c834-e2c9-470b-9575-3c62f61f948f"
      },
      "execution_count": 19,
      "outputs": [
        {
          "output_type": "stream",
          "name": "stdout",
          "text": [
            "[10, 20, 30, 40, 'voy a pasar el parcial con 5']\n"
          ]
        }
      ]
    },
    {
      "cell_type": "code",
      "source": [
        "# Agregar elementos a la lista\n",
        "mi_lista.append(60)\n",
        "print(mi_lista)\n",
        "\n"
      ],
      "metadata": {
        "colab": {
          "base_uri": "https://localhost:8080/"
        },
        "id": "pmF40-mvFlPd",
        "outputId": "0ee0af25-92f9-4538-82e7-23589098d401"
      },
      "execution_count": 20,
      "outputs": [
        {
          "output_type": "stream",
          "name": "stdout",
          "text": [
            "[10, 20, 30, 40, 'voy a pasar el parcial con 5', 60]\n"
          ]
        }
      ]
    },
    {
      "cell_type": "code",
      "source": [
        "# Agregar elementos a la lista en una posición especifica\n",
        "mi_lista.insert(1,15)                        # (1,15) el 1 hace referencia a la posición y el 15 al valor ingresado\n",
        "print(mi_lista)"
      ],
      "metadata": {
        "colab": {
          "base_uri": "https://localhost:8080/"
        },
        "id": "oWkvH7dxG61F",
        "outputId": "2a3cb733-f315-4a10-a9a6-789aa098b5ba"
      },
      "execution_count": 21,
      "outputs": [
        {
          "output_type": "stream",
          "name": "stdout",
          "text": [
            "[10, 15, 20, 30, 40, 'voy a pasar el parcial con 5', 60]\n"
          ]
        }
      ]
    },
    {
      "cell_type": "code",
      "source": [
        "# Eliminar un elemento de un lista\n",
        "del mi_lista[5]\n",
        "print(mi_lista)"
      ],
      "metadata": {
        "colab": {
          "base_uri": "https://localhost:8080/"
        },
        "id": "-XQvMHaGHQXe",
        "outputId": "bc7b1108-9007-4b4b-9e73-df21652ae201"
      },
      "execution_count": 22,
      "outputs": [
        {
          "output_type": "stream",
          "name": "stdout",
          "text": [
            "[10, 15, 20, 30, 40, 60]\n"
          ]
        }
      ]
    },
    {
      "cell_type": "code",
      "source": [
        "# Diseño de un programa de actualición de datos que le permita al usuario siempre y cuando exista\n",
        "mi_lista_1=['Isabel','Vincent','Manuel','Jhon']\n",
        "\n",
        "# Mensaje de bienvenida\n",
        "print('---------------PROGRAMA DE ACTUALIZACIÓN DE DATOS---------------')\n",
        "# Pregunta al usuario que nombre quiere buscar\n",
        "nombre_buscar=input('Ingrese nombre a buscar:')\n",
        "\n",
        "# Definición de condicional\n",
        "# Si el nombre del usuario existe en la lista\n",
        "if nombre_buscar in mi_lista_1:\n",
        "\n",
        "  #Encuentra la posición o el indice de nombre que ingreso el usuario detro de la lista\n",
        "  pos=mi_lista_1.index(nombre_buscar)\n",
        "\n",
        "  # Actualiza la posición dentro de la lista con el nuevo nombre que indique el usuario\n",
        "  mi_lista_1[pos]=input('Ingrese nuevo nombre: ')\n",
        "\n",
        "  # Imprimir la lista actualizada\n",
        "  print(mi_lista_1)\n",
        "\n",
        "  # En Caso de que el nombre indicado no exista, le muestre el siiguiente mensaje\n",
        "\n",
        "else:\n",
        "  print('su nombre no esta en la lista, Indiquelo')\n",
        "  nombre_nuevo=input('ingrese nuevo nombre: ')\n",
        "  mi_lista.append(nombre_nuevo)\n",
        "  # f combina variables con una cadena de texto o valores string en un print\n",
        "  print(f'felicidades, su nombre a sido adicionado exitosamente:{nombre_nuevo}')\n",
        "  print(mi_lista)\n",
        "\n",
        "\n",
        "\n",
        ""
      ],
      "metadata": {
        "colab": {
          "base_uri": "https://localhost:8080/"
        },
        "id": "EZLcvfltH3H9",
        "outputId": "4f302bd3-2fb9-4a0b-99bb-95f51a5575c0"
      },
      "execution_count": 29,
      "outputs": [
        {
          "output_type": "stream",
          "name": "stdout",
          "text": [
            "---------------PROGRAMA DE ACTUALIZACIÓN DE DATOS---------------\n",
            "Ingrese nombre a buscar:5\n",
            "su nombre no esta en la lista, Indiquelo\n",
            "ingrese nuevo nombre: Laura\n",
            "felicidades, su nombre a sido adicionado exitosamente:Laura\n",
            "[10, 15, 20, 30, 40, 60, 'Valerye', 'Valerye', 'Laura', 'Laura', 'Laura']\n"
          ]
        }
      ]
    },
    {
      "cell_type": "code",
      "source": [],
      "metadata": {
        "id": "2GYhz580JZhG"
      },
      "execution_count": null,
      "outputs": []
    }
  ]
}